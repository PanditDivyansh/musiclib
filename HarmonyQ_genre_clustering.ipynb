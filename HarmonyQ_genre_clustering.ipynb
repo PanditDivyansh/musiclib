{
  "nbformat": 4,
  "nbformat_minor": 0,
  "metadata": {
    "colab": {
      "provenance": []
    },
    "kernelspec": {
      "name": "python3",
      "display_name": "Python 3"
    },
    "language_info": {
      "name": "python"
    }
  },
  "cells": [
    {
      "cell_type": "markdown",
      "source": [
        "Importing dataset"
      ],
      "metadata": {
        "id": "SBeiVnbx3hZq"
      }
    },
    {
      "cell_type": "code",
      "execution_count": 78,
      "metadata": {
        "id": "RnzGNAnIxAvb"
      },
      "outputs": [],
      "source": [
        "import pandas as pd\n",
        "df = pd.read_csv('/content/drive/MyDrive/Colab Notebooks/song_data.csv')"
      ]
    },
    {
      "cell_type": "code",
      "source": [
        "df.info()"
      ],
      "metadata": {
        "colab": {
          "base_uri": "https://localhost:8080/"
        },
        "id": "6puGuvtoFaqi",
        "outputId": "b50ca466-2b66-4d05-dea6-0d7920462b8b"
      },
      "execution_count": 79,
      "outputs": [
        {
          "output_type": "stream",
          "name": "stdout",
          "text": [
            "<class 'pandas.core.frame.DataFrame'>\n",
            "RangeIndex: 18835 entries, 0 to 18834\n",
            "Data columns (total 15 columns):\n",
            " #   Column            Non-Null Count  Dtype  \n",
            "---  ------            --------------  -----  \n",
            " 0   song_name         18835 non-null  object \n",
            " 1   song_popularity   18835 non-null  int64  \n",
            " 2   song_duration_ms  18835 non-null  int64  \n",
            " 3   acousticness      18835 non-null  float64\n",
            " 4   danceability      18835 non-null  float64\n",
            " 5   energy            18835 non-null  float64\n",
            " 6   instrumentalness  18835 non-null  float64\n",
            " 7   key               18835 non-null  int64  \n",
            " 8   liveness          18835 non-null  float64\n",
            " 9   loudness          18835 non-null  float64\n",
            " 10  audio_mode        18835 non-null  int64  \n",
            " 11  speechiness       18835 non-null  float64\n",
            " 12  tempo             18835 non-null  float64\n",
            " 13  time_signature    18835 non-null  int64  \n",
            " 14  audio_valence     18835 non-null  float64\n",
            "dtypes: float64(9), int64(5), object(1)\n",
            "memory usage: 2.2+ MB\n"
          ]
        }
      ]
    },
    {
      "cell_type": "markdown",
      "source": [
        "Preprocessing:\n",
        "\n",
        "\n",
        "*   Drop duplicates\n",
        "*   Scale values"
      ],
      "metadata": {
        "id": "D1sDIKKM3lN1"
      }
    },
    {
      "cell_type": "code",
      "source": [
        "df.shape\n",
        "print(df.duplicated().sum())\n",
        "df.drop_duplicates(inplace=True)\n",
        "df.shape"
      ],
      "metadata": {
        "colab": {
          "base_uri": "https://localhost:8080/"
        },
        "id": "nNbmZcqBHRAi",
        "outputId": "ad6f2ae8-a15a-4524-c35f-86bbea25d980"
      },
      "execution_count": 80,
      "outputs": [
        {
          "output_type": "stream",
          "name": "stdout",
          "text": [
            "3909\n"
          ]
        },
        {
          "output_type": "execute_result",
          "data": {
            "text/plain": [
              "(14926, 15)"
            ]
          },
          "metadata": {},
          "execution_count": 80
        }
      ]
    },
    {
      "cell_type": "code",
      "source": [
        "from sklearn.preprocessing import MinMaxScaler\n",
        "scaler = MinMaxScaler()\n",
        "df[['song_duration_ms']] = scaler.fit_transform(df[['song_duration_ms']])\n",
        "df[['song_popularity']] = scaler.fit_transform(df[['song_popularity']])\n",
        "df[['loudness']] = scaler.fit_transform(df[['loudness']])\n",
        "df[['tempo']] = scaler.fit_transform(df[['tempo']])\n",
        "df[['key']] = scaler.fit_transform(df[['key']])\n",
        "df[['time_signature']] = scaler.fit_transform(df[['time_signature']])"
      ],
      "metadata": {
        "id": "TRpqw5DXFK4u"
      },
      "execution_count": 81,
      "outputs": []
    },
    {
      "cell_type": "code",
      "source": [
        "df.head(5)"
      ],
      "metadata": {
        "colab": {
          "base_uri": "https://localhost:8080/",
          "height": 347
        },
        "id": "_2yjJLKHEybt",
        "outputId": "719bcf9f-fd01-47cc-8a53-6871d817b9b7"
      },
      "execution_count": 82,
      "outputs": [
        {
          "output_type": "execute_result",
          "data": {
            "text/plain": [
              "                    song_name  song_popularity  song_duration_ms  \\\n",
              "0  Boulevard of Broken Dreams             0.73          0.140059   \n",
              "1                  In The End             0.66          0.114658   \n",
              "2           Seven Nation Army             0.76          0.122938   \n",
              "3                  By The Way             0.74          0.114658   \n",
              "4           How You Remind Me             0.56          0.118514   \n",
              "\n",
              "   acousticness  danceability  energy  instrumentalness       key  liveness  \\\n",
              "0      0.005520         0.496   0.682          0.000029  0.727273    0.0589   \n",
              "1      0.010300         0.542   0.853          0.000000  0.272727    0.1080   \n",
              "2      0.008170         0.737   0.463          0.447000  0.000000    0.2550   \n",
              "3      0.026400         0.451   0.970          0.003550  0.000000    0.1020   \n",
              "4      0.000954         0.447   0.766          0.000000  0.909091    0.1130   \n",
              "\n",
              "   loudness  audio_mode  speechiness     tempo  time_signature  audio_valence  \n",
              "0  0.859242           1       0.0294  0.689425             0.8          0.474  \n",
              "1  0.801948           0       0.0498  0.434371             0.8          0.370  \n",
              "2  0.766734           1       0.0792  0.511233             0.8          0.324  \n",
              "3  0.838352           1       0.1070  0.505303             0.8          0.198  \n",
              "4  0.835204           1       0.0313  0.709856             0.8          0.574  "
            ],
            "text/html": [
              "\n",
              "  <div id=\"df-9d4e1cf9-4221-4633-b9e9-4cccdeeb6e4c\" class=\"colab-df-container\">\n",
              "    <div>\n",
              "<style scoped>\n",
              "    .dataframe tbody tr th:only-of-type {\n",
              "        vertical-align: middle;\n",
              "    }\n",
              "\n",
              "    .dataframe tbody tr th {\n",
              "        vertical-align: top;\n",
              "    }\n",
              "\n",
              "    .dataframe thead th {\n",
              "        text-align: right;\n",
              "    }\n",
              "</style>\n",
              "<table border=\"1\" class=\"dataframe\">\n",
              "  <thead>\n",
              "    <tr style=\"text-align: right;\">\n",
              "      <th></th>\n",
              "      <th>song_name</th>\n",
              "      <th>song_popularity</th>\n",
              "      <th>song_duration_ms</th>\n",
              "      <th>acousticness</th>\n",
              "      <th>danceability</th>\n",
              "      <th>energy</th>\n",
              "      <th>instrumentalness</th>\n",
              "      <th>key</th>\n",
              "      <th>liveness</th>\n",
              "      <th>loudness</th>\n",
              "      <th>audio_mode</th>\n",
              "      <th>speechiness</th>\n",
              "      <th>tempo</th>\n",
              "      <th>time_signature</th>\n",
              "      <th>audio_valence</th>\n",
              "    </tr>\n",
              "  </thead>\n",
              "  <tbody>\n",
              "    <tr>\n",
              "      <th>0</th>\n",
              "      <td>Boulevard of Broken Dreams</td>\n",
              "      <td>0.73</td>\n",
              "      <td>0.140059</td>\n",
              "      <td>0.005520</td>\n",
              "      <td>0.496</td>\n",
              "      <td>0.682</td>\n",
              "      <td>0.000029</td>\n",
              "      <td>0.727273</td>\n",
              "      <td>0.0589</td>\n",
              "      <td>0.859242</td>\n",
              "      <td>1</td>\n",
              "      <td>0.0294</td>\n",
              "      <td>0.689425</td>\n",
              "      <td>0.8</td>\n",
              "      <td>0.474</td>\n",
              "    </tr>\n",
              "    <tr>\n",
              "      <th>1</th>\n",
              "      <td>In The End</td>\n",
              "      <td>0.66</td>\n",
              "      <td>0.114658</td>\n",
              "      <td>0.010300</td>\n",
              "      <td>0.542</td>\n",
              "      <td>0.853</td>\n",
              "      <td>0.000000</td>\n",
              "      <td>0.272727</td>\n",
              "      <td>0.1080</td>\n",
              "      <td>0.801948</td>\n",
              "      <td>0</td>\n",
              "      <td>0.0498</td>\n",
              "      <td>0.434371</td>\n",
              "      <td>0.8</td>\n",
              "      <td>0.370</td>\n",
              "    </tr>\n",
              "    <tr>\n",
              "      <th>2</th>\n",
              "      <td>Seven Nation Army</td>\n",
              "      <td>0.76</td>\n",
              "      <td>0.122938</td>\n",
              "      <td>0.008170</td>\n",
              "      <td>0.737</td>\n",
              "      <td>0.463</td>\n",
              "      <td>0.447000</td>\n",
              "      <td>0.000000</td>\n",
              "      <td>0.2550</td>\n",
              "      <td>0.766734</td>\n",
              "      <td>1</td>\n",
              "      <td>0.0792</td>\n",
              "      <td>0.511233</td>\n",
              "      <td>0.8</td>\n",
              "      <td>0.324</td>\n",
              "    </tr>\n",
              "    <tr>\n",
              "      <th>3</th>\n",
              "      <td>By The Way</td>\n",
              "      <td>0.74</td>\n",
              "      <td>0.114658</td>\n",
              "      <td>0.026400</td>\n",
              "      <td>0.451</td>\n",
              "      <td>0.970</td>\n",
              "      <td>0.003550</td>\n",
              "      <td>0.000000</td>\n",
              "      <td>0.1020</td>\n",
              "      <td>0.838352</td>\n",
              "      <td>1</td>\n",
              "      <td>0.1070</td>\n",
              "      <td>0.505303</td>\n",
              "      <td>0.8</td>\n",
              "      <td>0.198</td>\n",
              "    </tr>\n",
              "    <tr>\n",
              "      <th>4</th>\n",
              "      <td>How You Remind Me</td>\n",
              "      <td>0.56</td>\n",
              "      <td>0.118514</td>\n",
              "      <td>0.000954</td>\n",
              "      <td>0.447</td>\n",
              "      <td>0.766</td>\n",
              "      <td>0.000000</td>\n",
              "      <td>0.909091</td>\n",
              "      <td>0.1130</td>\n",
              "      <td>0.835204</td>\n",
              "      <td>1</td>\n",
              "      <td>0.0313</td>\n",
              "      <td>0.709856</td>\n",
              "      <td>0.8</td>\n",
              "      <td>0.574</td>\n",
              "    </tr>\n",
              "  </tbody>\n",
              "</table>\n",
              "</div>\n",
              "    <div class=\"colab-df-buttons\">\n",
              "\n",
              "  <div class=\"colab-df-container\">\n",
              "    <button class=\"colab-df-convert\" onclick=\"convertToInteractive('df-9d4e1cf9-4221-4633-b9e9-4cccdeeb6e4c')\"\n",
              "            title=\"Convert this dataframe to an interactive table.\"\n",
              "            style=\"display:none;\">\n",
              "\n",
              "  <svg xmlns=\"http://www.w3.org/2000/svg\" height=\"24px\" viewBox=\"0 -960 960 960\">\n",
              "    <path d=\"M120-120v-720h720v720H120Zm60-500h600v-160H180v160Zm220 220h160v-160H400v160Zm0 220h160v-160H400v160ZM180-400h160v-160H180v160Zm440 0h160v-160H620v160ZM180-180h160v-160H180v160Zm440 0h160v-160H620v160Z\"/>\n",
              "  </svg>\n",
              "    </button>\n",
              "\n",
              "  <style>\n",
              "    .colab-df-container {\n",
              "      display:flex;\n",
              "      gap: 12px;\n",
              "    }\n",
              "\n",
              "    .colab-df-convert {\n",
              "      background-color: #E8F0FE;\n",
              "      border: none;\n",
              "      border-radius: 50%;\n",
              "      cursor: pointer;\n",
              "      display: none;\n",
              "      fill: #1967D2;\n",
              "      height: 32px;\n",
              "      padding: 0 0 0 0;\n",
              "      width: 32px;\n",
              "    }\n",
              "\n",
              "    .colab-df-convert:hover {\n",
              "      background-color: #E2EBFA;\n",
              "      box-shadow: 0px 1px 2px rgba(60, 64, 67, 0.3), 0px 1px 3px 1px rgba(60, 64, 67, 0.15);\n",
              "      fill: #174EA6;\n",
              "    }\n",
              "\n",
              "    .colab-df-buttons div {\n",
              "      margin-bottom: 4px;\n",
              "    }\n",
              "\n",
              "    [theme=dark] .colab-df-convert {\n",
              "      background-color: #3B4455;\n",
              "      fill: #D2E3FC;\n",
              "    }\n",
              "\n",
              "    [theme=dark] .colab-df-convert:hover {\n",
              "      background-color: #434B5C;\n",
              "      box-shadow: 0px 1px 3px 1px rgba(0, 0, 0, 0.15);\n",
              "      filter: drop-shadow(0px 1px 2px rgba(0, 0, 0, 0.3));\n",
              "      fill: #FFFFFF;\n",
              "    }\n",
              "  </style>\n",
              "\n",
              "    <script>\n",
              "      const buttonEl =\n",
              "        document.querySelector('#df-9d4e1cf9-4221-4633-b9e9-4cccdeeb6e4c button.colab-df-convert');\n",
              "      buttonEl.style.display =\n",
              "        google.colab.kernel.accessAllowed ? 'block' : 'none';\n",
              "\n",
              "      async function convertToInteractive(key) {\n",
              "        const element = document.querySelector('#df-9d4e1cf9-4221-4633-b9e9-4cccdeeb6e4c');\n",
              "        const dataTable =\n",
              "          await google.colab.kernel.invokeFunction('convertToInteractive',\n",
              "                                                    [key], {});\n",
              "        if (!dataTable) return;\n",
              "\n",
              "        const docLinkHtml = 'Like what you see? Visit the ' +\n",
              "          '<a target=\"_blank\" href=https://colab.research.google.com/notebooks/data_table.ipynb>data table notebook</a>'\n",
              "          + ' to learn more about interactive tables.';\n",
              "        element.innerHTML = '';\n",
              "        dataTable['output_type'] = 'display_data';\n",
              "        await google.colab.output.renderOutput(dataTable, element);\n",
              "        const docLink = document.createElement('div');\n",
              "        docLink.innerHTML = docLinkHtml;\n",
              "        element.appendChild(docLink);\n",
              "      }\n",
              "    </script>\n",
              "  </div>\n",
              "\n",
              "\n",
              "<div id=\"df-a505f624-221d-49db-bb09-f90b469553ed\">\n",
              "  <button class=\"colab-df-quickchart\" onclick=\"quickchart('df-a505f624-221d-49db-bb09-f90b469553ed')\"\n",
              "            title=\"Suggest charts\"\n",
              "            style=\"display:none;\">\n",
              "\n",
              "<svg xmlns=\"http://www.w3.org/2000/svg\" height=\"24px\"viewBox=\"0 0 24 24\"\n",
              "     width=\"24px\">\n",
              "    <g>\n",
              "        <path d=\"M19 3H5c-1.1 0-2 .9-2 2v14c0 1.1.9 2 2 2h14c1.1 0 2-.9 2-2V5c0-1.1-.9-2-2-2zM9 17H7v-7h2v7zm4 0h-2V7h2v10zm4 0h-2v-4h2v4z\"/>\n",
              "    </g>\n",
              "</svg>\n",
              "  </button>\n",
              "\n",
              "<style>\n",
              "  .colab-df-quickchart {\n",
              "      --bg-color: #E8F0FE;\n",
              "      --fill-color: #1967D2;\n",
              "      --hover-bg-color: #E2EBFA;\n",
              "      --hover-fill-color: #174EA6;\n",
              "      --disabled-fill-color: #AAA;\n",
              "      --disabled-bg-color: #DDD;\n",
              "  }\n",
              "\n",
              "  [theme=dark] .colab-df-quickchart {\n",
              "      --bg-color: #3B4455;\n",
              "      --fill-color: #D2E3FC;\n",
              "      --hover-bg-color: #434B5C;\n",
              "      --hover-fill-color: #FFFFFF;\n",
              "      --disabled-bg-color: #3B4455;\n",
              "      --disabled-fill-color: #666;\n",
              "  }\n",
              "\n",
              "  .colab-df-quickchart {\n",
              "    background-color: var(--bg-color);\n",
              "    border: none;\n",
              "    border-radius: 50%;\n",
              "    cursor: pointer;\n",
              "    display: none;\n",
              "    fill: var(--fill-color);\n",
              "    height: 32px;\n",
              "    padding: 0;\n",
              "    width: 32px;\n",
              "  }\n",
              "\n",
              "  .colab-df-quickchart:hover {\n",
              "    background-color: var(--hover-bg-color);\n",
              "    box-shadow: 0 1px 2px rgba(60, 64, 67, 0.3), 0 1px 3px 1px rgba(60, 64, 67, 0.15);\n",
              "    fill: var(--button-hover-fill-color);\n",
              "  }\n",
              "\n",
              "  .colab-df-quickchart-complete:disabled,\n",
              "  .colab-df-quickchart-complete:disabled:hover {\n",
              "    background-color: var(--disabled-bg-color);\n",
              "    fill: var(--disabled-fill-color);\n",
              "    box-shadow: none;\n",
              "  }\n",
              "\n",
              "  .colab-df-spinner {\n",
              "    border: 2px solid var(--fill-color);\n",
              "    border-color: transparent;\n",
              "    border-bottom-color: var(--fill-color);\n",
              "    animation:\n",
              "      spin 1s steps(1) infinite;\n",
              "  }\n",
              "\n",
              "  @keyframes spin {\n",
              "    0% {\n",
              "      border-color: transparent;\n",
              "      border-bottom-color: var(--fill-color);\n",
              "      border-left-color: var(--fill-color);\n",
              "    }\n",
              "    20% {\n",
              "      border-color: transparent;\n",
              "      border-left-color: var(--fill-color);\n",
              "      border-top-color: var(--fill-color);\n",
              "    }\n",
              "    30% {\n",
              "      border-color: transparent;\n",
              "      border-left-color: var(--fill-color);\n",
              "      border-top-color: var(--fill-color);\n",
              "      border-right-color: var(--fill-color);\n",
              "    }\n",
              "    40% {\n",
              "      border-color: transparent;\n",
              "      border-right-color: var(--fill-color);\n",
              "      border-top-color: var(--fill-color);\n",
              "    }\n",
              "    60% {\n",
              "      border-color: transparent;\n",
              "      border-right-color: var(--fill-color);\n",
              "    }\n",
              "    80% {\n",
              "      border-color: transparent;\n",
              "      border-right-color: var(--fill-color);\n",
              "      border-bottom-color: var(--fill-color);\n",
              "    }\n",
              "    90% {\n",
              "      border-color: transparent;\n",
              "      border-bottom-color: var(--fill-color);\n",
              "    }\n",
              "  }\n",
              "</style>\n",
              "\n",
              "  <script>\n",
              "    async function quickchart(key) {\n",
              "      const quickchartButtonEl =\n",
              "        document.querySelector('#' + key + ' button');\n",
              "      quickchartButtonEl.disabled = true;  // To prevent multiple clicks.\n",
              "      quickchartButtonEl.classList.add('colab-df-spinner');\n",
              "      try {\n",
              "        const charts = await google.colab.kernel.invokeFunction(\n",
              "            'suggestCharts', [key], {});\n",
              "      } catch (error) {\n",
              "        console.error('Error during call to suggestCharts:', error);\n",
              "      }\n",
              "      quickchartButtonEl.classList.remove('colab-df-spinner');\n",
              "      quickchartButtonEl.classList.add('colab-df-quickchart-complete');\n",
              "    }\n",
              "    (() => {\n",
              "      let quickchartButtonEl =\n",
              "        document.querySelector('#df-a505f624-221d-49db-bb09-f90b469553ed button');\n",
              "      quickchartButtonEl.style.display =\n",
              "        google.colab.kernel.accessAllowed ? 'block' : 'none';\n",
              "    })();\n",
              "  </script>\n",
              "</div>\n",
              "\n",
              "    </div>\n",
              "  </div>\n"
            ],
            "application/vnd.google.colaboratory.intrinsic+json": {
              "type": "dataframe",
              "variable_name": "df",
              "summary": "{\n  \"name\": \"df\",\n  \"rows\": 14926,\n  \"fields\": [\n    {\n      \"column\": \"song_name\",\n      \"properties\": {\n        \"dtype\": \"string\",\n        \"num_unique_values\": 13070,\n        \"samples\": [\n          \"I Am The Champion\",\n          \"Carry You Home\",\n          \"Buss It (feat. Chris Brown)\"\n        ],\n        \"semantic_type\": \"\",\n        \"description\": \"\"\n      }\n    },\n    {\n      \"column\": \"song_popularity\",\n      \"properties\": {\n        \"dtype\": \"number\",\n        \"std\": 0.2037946524990302,\n        \"min\": 0.0,\n        \"max\": 1.0,\n        \"num_unique_values\": 101,\n        \"samples\": [\n          0.18,\n          0.24,\n          0.33\n        ],\n        \"semantic_type\": \"\",\n        \"description\": \"\"\n      }\n    },\n    {\n      \"column\": \"song_duration_ms\",\n      \"properties\": {\n        \"dtype\": \"number\",\n        \"std\": 0.03487897852636048,\n        \"min\": 0.0,\n        \"max\": 1.0,\n        \"num_unique_values\": 11771,\n        \"samples\": [\n          0.12120484785822108,\n          0.11660473126076316,\n          0.11385204655394088\n        ],\n        \"semantic_type\": \"\",\n        \"description\": \"\"\n      }\n    },\n    {\n      \"column\": \"acousticness\",\n      \"properties\": {\n        \"dtype\": \"number\",\n        \"std\": 0.29811704503059344,\n        \"min\": 1.02e-06,\n        \"max\": 0.996,\n        \"num_unique_values\": 3209,\n        \"samples\": [\n          0.0658,\n          0.000455,\n          1.66e-05\n        ],\n        \"semantic_type\": \"\",\n        \"description\": \"\"\n      }\n    },\n    {\n      \"column\": \"danceability\",\n      \"properties\": {\n        \"dtype\": \"number\",\n        \"std\": 0.15808071320762138,\n        \"min\": 0.0,\n        \"max\": 0.987,\n        \"num_unique_values\": 849,\n        \"samples\": [\n          0.658,\n          0.5,\n          0.375\n        ],\n        \"semantic_type\": \"\",\n        \"description\": \"\"\n      }\n    },\n    {\n      \"column\": \"energy\",\n      \"properties\": {\n        \"dtype\": \"number\",\n        \"std\": 0.22175619055497678,\n        \"min\": 0.00107,\n        \"max\": 0.999,\n        \"num_unique_values\": 1132,\n        \"samples\": [\n          0.362,\n          0.0711,\n          0.585\n        ],\n        \"semantic_type\": \"\",\n        \"description\": \"\"\n      }\n    },\n    {\n      \"column\": \"instrumentalness\",\n      \"properties\": {\n        \"dtype\": \"number\",\n        \"std\": 0.24045076149107036,\n        \"min\": 0.0,\n        \"max\": 0.997,\n        \"num_unique_values\": 3925,\n        \"samples\": [\n          0.0603,\n          3.46e-05,\n          0.0669\n        ],\n        \"semantic_type\": \"\",\n        \"description\": \"\"\n      }\n    },\n    {\n      \"column\": \"key\",\n      \"properties\": {\n        \"dtype\": \"number\",\n        \"std\": 0.3266014469642808,\n        \"min\": 0.0,\n        \"max\": 1.0,\n        \"num_unique_values\": 12,\n        \"samples\": [\n          0.4545454545454546,\n          1.0,\n          0.7272727272727273\n        ],\n        \"semantic_type\": \"\",\n        \"description\": \"\"\n      }\n    },\n    {\n      \"column\": \"liveness\",\n      \"properties\": {\n        \"dtype\": \"number\",\n        \"std\": 0.14509742564819736,\n        \"min\": 0.0109,\n        \"max\": 0.986,\n        \"num_unique_values\": 1425,\n        \"samples\": [\n          0.0977,\n          0.0582,\n          0.646\n        ],\n        \"semantic_type\": \"\",\n        \"description\": \"\"\n      }\n    },\n    {\n      \"column\": \"loudness\",\n      \"properties\": {\n        \"dtype\": \"number\",\n        \"std\": 0.09958788655043369,\n        \"min\": 0.0,\n        \"max\": 1.0,\n        \"num_unique_values\": 8416,\n        \"samples\": [\n          0.3615840210145467,\n          0.8395162689267217,\n          0.832527940921369\n        ],\n        \"semantic_type\": \"\",\n        \"description\": \"\"\n      }\n    },\n    {\n      \"column\": \"audio_mode\",\n      \"properties\": {\n        \"dtype\": \"number\",\n        \"std\": 0,\n        \"min\": 0,\n        \"max\": 1,\n        \"num_unique_values\": 2,\n        \"samples\": [\n          0,\n          1\n        ],\n        \"semantic_type\": \"\",\n        \"description\": \"\"\n      }\n    },\n    {\n      \"column\": \"speechiness\",\n      \"properties\": {\n        \"dtype\": \"number\",\n        \"std\": 0.10354605271361757,\n        \"min\": 0.0,\n        \"max\": 0.941,\n        \"num_unique_values\": 1224,\n        \"samples\": [\n          0.261,\n          0.0345\n        ],\n        \"semantic_type\": \"\",\n        \"description\": \"\"\n      }\n    },\n    {\n      \"column\": \"tempo\",\n      \"properties\": {\n        \"dtype\": \"number\",\n        \"std\": 0.11986168592291632,\n        \"min\": 0.0,\n        \"max\": 1.0,\n        \"num_unique_values\": 12112,\n        \"samples\": [\n          0.39823702737724803,\n          0.5149142861859209\n        ],\n        \"semantic_type\": \"\",\n        \"description\": \"\"\n      }\n    },\n    {\n      \"column\": \"time_signature\",\n      \"properties\": {\n        \"dtype\": \"number\",\n        \"std\": 0.0633404778202483,\n        \"min\": 0.0,\n        \"max\": 1.0,\n        \"num_unique_values\": 5,\n        \"samples\": [\n          0.6000000000000001,\n          0.0\n        ],\n        \"semantic_type\": \"\",\n        \"description\": \"\"\n      }\n    },\n    {\n      \"column\": \"audio_valence\",\n      \"properties\": {\n        \"dtype\": \"number\",\n        \"std\": 0.24775819936550297,\n        \"min\": 0.0,\n        \"max\": 0.984,\n        \"num_unique_values\": 1246,\n        \"samples\": [\n          0.651,\n          0.402\n        ],\n        \"semantic_type\": \"\",\n        \"description\": \"\"\n      }\n    }\n  ]\n}"
            }
          },
          "metadata": {},
          "execution_count": 82
        }
      ]
    },
    {
      "cell_type": "code",
      "source": [
        "df_new = df.drop(columns=['song_name'])"
      ],
      "metadata": {
        "id": "oXgX1r8qMH_R"
      },
      "execution_count": 83,
      "outputs": []
    },
    {
      "cell_type": "code",
      "source": [
        "import numpy as np\n",
        "from sklearn.cluster import KMeans"
      ],
      "metadata": {
        "id": "cI8NY_uMJkHO"
      },
      "execution_count": 84,
      "outputs": []
    },
    {
      "cell_type": "code",
      "source": [
        "X = df_new"
      ],
      "metadata": {
        "id": "JFBwsqi_4GlQ"
      },
      "execution_count": 85,
      "outputs": []
    },
    {
      "cell_type": "markdown",
      "source": [
        "Train kMeans clustering model and add a new column assigning a cluster to each row"
      ],
      "metadata": {
        "id": "QtaB_pRL36U_"
      }
    },
    {
      "cell_type": "code",
      "source": [
        "k = 4\n",
        "km = KMeans(n_clusters=k, random_state=42)\n",
        "km.fit(X)\n",
        "labels = km.labels_\n",
        "centroids = km.cluster_centers_"
      ],
      "metadata": {
        "id": "64QrdQ-ULiuE",
        "collapsed": true
      },
      "execution_count": 86,
      "outputs": []
    },
    {
      "cell_type": "markdown",
      "source": [
        "Identify the genres based on the centroids"
      ],
      "metadata": {
        "id": "JIqn1fe7SKl4"
      }
    },
    {
      "cell_type": "code",
      "source": [
        "df_genre = pd.read_csv('/content/drive/MyDrive/Colab Notebooks/genre_features.csv')\n",
        "feature_columns = df_genre.columns[1:]\n",
        "genre_features = df_genre[feature_columns].values\n",
        "centroids = np.array(centroids)\n",
        "distances = cdist(centroids, genre_features, metric=\"euclidean\")\n",
        "assigned_genres = set()\n",
        "selected_genres = []\n",
        "for i, centroid_dist in enumerate(distances):\n",
        "    sorted_indices = np.argsort(centroid_dist)  # Sort by closest match\n",
        "    for index in sorted_indices:\n",
        "        genre = df_genre.iloc[index, 0]  # Get genre name\n",
        "        if genre not in assigned_genres:  # Ensure uniqueness\n",
        "            assigned_genres.add(genre)\n",
        "            selected_genres.append((f\"Centroid {i+1}\", genre))\n",
        "            break\n",
        "genres = []\n",
        "for centroid, g in selected_genres:\n",
        "    print(f\"{centroid}: {g}\")\n",
        "    genres.append(f\"{g}\")"
      ],
      "metadata": {
        "id": "sYKFGIZiPWjQ",
        "colab": {
          "base_uri": "https://localhost:8080/"
        },
        "outputId": "afb7a981-3868-46e4-cd39-02e05311c631"
      },
      "execution_count": 87,
      "outputs": [
        {
          "output_type": "stream",
          "name": "stdout",
          "text": [
            "Centroid 1: Afrobeat\n",
            "Centroid 2: Hip-Hop\n",
            "Centroid 3: Pop\n",
            "Centroid 4: Funk\n"
          ]
        }
      ]
    },
    {
      "cell_type": "markdown",
      "source": [
        "Assigning clusters to each data row"
      ],
      "metadata": {
        "id": "pngdsIwHNNI9"
      }
    },
    {
      "cell_type": "code",
      "source": [
        "df_new[\"Cluster\"] = km.predict(df_new.values)"
      ],
      "metadata": {
        "colab": {
          "base_uri": "https://localhost:8080/"
        },
        "id": "1KZrHevCIGUi",
        "outputId": "897849a5-5891-444c-8f0f-17e430b790f0"
      },
      "execution_count": 88,
      "outputs": [
        {
          "output_type": "stream",
          "name": "stderr",
          "text": [
            "/usr/local/lib/python3.11/dist-packages/sklearn/utils/validation.py:2739: UserWarning: X does not have valid feature names, but KMeans was fitted with feature names\n",
            "  warnings.warn(\n"
          ]
        }
      ]
    },
    {
      "cell_type": "markdown",
      "source": [
        "Count songs belonging to each genre"
      ],
      "metadata": {
        "id": "NS86LvVK5kX5"
      }
    },
    {
      "cell_type": "code",
      "source": [
        "cluster_counts_list = [df_new[\"Cluster\"].value_counts().get(i, 0) for i in range(df_new['Cluster'].nunique())]\n",
        "cluster_counts = df_new[\"Cluster\"].value_counts().sort_index().tolist()\n",
        "df_cluster_summary = pd.DataFrame({\n",
        "    \"Genre\": genres,\n",
        "    \"Song Count\": cluster_counts_list\n",
        "})\n",
        "\n",
        "print(df_cluster_summary)"
      ],
      "metadata": {
        "colab": {
          "base_uri": "https://localhost:8080/"
        },
        "id": "f6DyD5GJyPwY",
        "outputId": "28171563-3fd9-4b61-9357-da4ff729132e"
      },
      "execution_count": 89,
      "outputs": [
        {
          "output_type": "stream",
          "name": "stdout",
          "text": [
            "      Genre  Song Count\n",
            "0  Afrobeat        2042\n",
            "1   Hip-Hop        3962\n",
            "2       Pop        5363\n",
            "3      Funk        3559\n"
          ]
        }
      ]
    },
    {
      "cell_type": "markdown",
      "source": [
        "Visualize the centroids based on a heatmap using various genres\n",
        "\n",
        "(as there are more than 2 input features, creating a 2D graph is not feasible)"
      ],
      "metadata": {
        "id": "myII55RK5JxO"
      }
    },
    {
      "cell_type": "code",
      "source": [
        "import seaborn as sns\n",
        "import matplotlib.pyplot as plt\n",
        "\n",
        "cluster_counts = pd.Series(labels).value_counts().sort_index().tolist()\n",
        "genres_with_counts = [f\"{genre} ({count})\" for genre, count in zip(genres, cluster_counts)]\n",
        "df_genre_centroids = pd.DataFrame(centroids, columns=df_new.columns[:-1])\n",
        "df_genre_centroids.insert(0, \"Genre\", genres)\n",
        "df_transposed = df_genre_centroids.set_index(\"Genre\").T\n",
        "\n",
        "plt.figure(figsize=(8, 5))\n",
        "sns.heatmap(df_transposed, annot=True, cmap=\"coolwarm\", fmt=\".2f\")\n",
        "plt.title(\"Heatmap of Genre Centroids\")\n",
        "plt.xlabel(\"Genres\")\n",
        "plt.ylabel(\"Attributes\")\n",
        "plt.xticks(rotation=45)\n",
        "plt.show()"
      ],
      "metadata": {
        "colab": {
          "base_uri": "https://localhost:8080/",
          "height": 525
        },
        "id": "uhOLPCdssw90",
        "outputId": "f6631839-e730-4e8a-abf9-9cdb8bbd93e6",
        "collapsed": true
      },
      "execution_count": 90,
      "outputs": [
        {
          "output_type": "display_data",
          "data": {
            "text/plain": [
              "<Figure size 800x500 with 2 Axes>"
            ],
            "image/png": "[encoded data removed]"
          },
          "metadata": {}
        }
      ]
    },
    {
      "cell_type": "code",
      "source": [
        "# print(\"Inertia:\", km.inertia_)"
      ],
      "metadata": {
        "colab": {
          "base_uri": "https://localhost:8080/"
        },
        "id": "gxQQf_HD5uRV",
        "outputId": "7ecca8c9-3718-451c-f7ac-c629afc06479"
      },
      "execution_count": 91,
      "outputs": [
        {
          "output_type": "stream",
          "name": "stdout",
          "text": [
            "Inertia: 5640.4281726936515\n"
          ]
        }
      ]
    },
    {
      "cell_type": "markdown",
      "source": [
        "Silhouette score method for finding number of clusters needed"
      ],
      "metadata": {
        "id": "Bpdzgs5XUxJz"
      }
    },
    {
      "cell_type": "code",
      "source": [
        "# from sklearn.metrics import silhouette_score\n",
        "\n",
        "# best_k = 2\n",
        "# best_score = -1\n",
        "\n",
        "# for k in range(2, 15):\n",
        "#     kmeans = KMeans(n_clusters=k, random_state=42, n_init=10)\n",
        "#     labels = kmeans.fit_predict(X_original)\n",
        "#     score = silhouette_score(X_original, labels)\n",
        "\n",
        "#     if score > best_score:\n",
        "#         best_score = score\n",
        "#         best_k = k\n",
        "\n",
        "# print(f\"Optimal number of clusters: {best_k}\")"
      ],
      "metadata": {
        "id": "fxrJHAsjjciP",
        "colab": {
          "base_uri": "https://localhost:8080/"
        },
        "outputId": "ddec6198-3346-4728-9f9f-3674f8731f32"
      },
      "execution_count": 93,
      "outputs": [
        {
          "output_type": "stream",
          "name": "stdout",
          "text": [
            "Optimal number of clusters: 2\n"
          ]
        }
      ]
    },
    {
      "cell_type": "markdown",
      "source": [
        "Elbow method for finding number of clusters needed"
      ],
      "metadata": {
        "id": "8xLYm0J_U0Ij"
      }
    },
    {
      "cell_type": "code",
      "source": [
        "# import matplotlib.pyplot as plt\n",
        "# from sklearn.cluster import KMeans\n",
        "\n",
        "# inertia = []\n",
        "# K_range = range(2, 15)  # Test different cluster numbers\n",
        "\n",
        "# for k in K_range:\n",
        "#     kmeans = KMeans(n_clusters=k, random_state=42, n_init=10)\n",
        "#     kmeans.fit(X_original)\n",
        "#     inertia.append(kmeans.inertia_)\n",
        "\n",
        "# # Plot the elbow curve\n",
        "# plt.plot(K_range, inertia, marker='o')\n",
        "# plt.xlabel('Number of Clusters')\n",
        "# plt.ylabel('Inertia')\n",
        "# plt.title('Elbow Method for Optimal Clusters')\n",
        "# plt.show()"
      ],
      "metadata": {
        "id": "WON6dBfbkJgd",
        "colab": {
          "base_uri": "https://localhost:8080/",
          "height": 472
        },
        "outputId": "516a7af8-59a7-42a4-9bdb-d9173789290d"
      },
      "execution_count": 94,
      "outputs": [
        {
          "output_type": "display_data",
          "data": {
            "text/plain": [
              "<Figure size 640x480 with 1 Axes>"
            ],
            "image/png": "[encoded data removed]"
          },
          "metadata": {}
        }
      ]
    },
    {
      "cell_type": "code",
      "source": [
        "# print(pd.DataFrame(centroids, columns=df_new.columns))"
      ],
      "metadata": {
        "id": "1PKjsBlQH-ni",
        "collapsed": true
      },
      "execution_count": 97,
      "outputs": []
    },
    {
      "cell_type": "markdown",
      "source": [
        "Identify the songs closest to the centroids"
      ],
      "metadata": {
        "id": "W_sZaOR3U5-C"
      }
    },
    {
      "cell_type": "code",
      "source": [
        "# from scipy.spatial.distance import cdist\n",
        "# feature_columns = df.columns.difference(['song_name'])\n",
        "# X_original = df[feature_columns].values\n",
        "# distances = cdist(centroids, X_original, metric='euclidean')\n",
        "# closest_indices = []\n",
        "# used_indices = set()\n",
        "\n",
        "# for i in range(len(centroids)):\n",
        "#     sorted_indices = np.argsort(distances[i])\n",
        "#     for idx in sorted_indices:\n",
        "#         if idx not in used_indices:\n",
        "#             closest_indices.append(idx)\n",
        "#             used_indices.add(idx)\n",
        "#             break\n",
        "\n",
        "# df_matched = df.iloc[closest_indices][['song_name']]\n",
        "# df_matched['Cluster'] = range(len(centroids))\n",
        "# print('Centroids')\n",
        "# print(df_matched)"
      ],
      "metadata": {
        "colab": {
          "base_uri": "https://localhost:8080/"
        },
        "id": "ynSOuA1PicIP",
        "outputId": "b8f071f7-a22f-4d16-b09a-25823539824c"
      },
      "execution_count": 98,
      "outputs": [
        {
          "output_type": "stream",
          "name": "stdout",
          "text": [
            "Centroids\n",
            "                                 song_name  Cluster\n",
            "13294                            Sekeh Mah        0\n",
            "12817  Real Is Rare (Edgewood) / The Woods        1\n",
            "18267                               Buzzin        2\n",
            "18147                     Army Arrangement        3\n"
          ]
        }
      ]
    }
  ]
}